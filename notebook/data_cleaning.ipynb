{
 "cells": [
  {
   "cell_type": "code",
   "execution_count": 1,
   "id": "cc61e2a8",
   "metadata": {},
   "outputs": [],
   "source": [
    "import pandas as pd\n",
    "import numpy as np\n"
   ]
  },
  {
   "cell_type": "code",
   "execution_count": 5,
   "id": "ecf6fc06",
   "metadata": {},
   "outputs": [],
   "source": [
    "# Load raw dataset\n",
    "df = pd.read_csv(\"../data/albania_youth_dataset.csv\")"
   ]
  },
  {
   "cell_type": "code",
   "execution_count": 6,
   "id": "008704cb",
   "metadata": {},
   "outputs": [
    {
     "name": "stdout",
     "output_type": "stream",
     "text": [
      "(8, 8)\n",
      "   year  emigrants_15_29  neet_rate_15_29  tertiary_enrollment_total_18_24  \\\n",
      "0  2016            27790             30.0                           141410   \n",
      "1  2017            20624             29.7                           131618   \n",
      "2  2018            11765             28.6                           139043   \n",
      "3  2019            13904             26.6                           130264   \n",
      "4  2020            14121             27.9                           123797   \n",
      "\n",
      "   pop_20_24  tertiary_enrollment_rate_18_24  avg_gross_monthly_wage_all  \\\n",
      "0     256899                           55.06                       47522   \n",
      "1     254172                           51.81                       48967   \n",
      "2     247137                           56.26                       50589   \n",
      "3     236981                           54.97                       52380   \n",
      "4     226425                           54.69                       53662   \n",
      "\n",
      "   pct_asylum_15_29  \n",
      "0             30.24  \n",
      "1             32.62  \n",
      "2             34.02  \n",
      "3             32.62  \n",
      "4             32.83  \n",
      "<class 'pandas.core.frame.DataFrame'>\n",
      "RangeIndex: 8 entries, 0 to 7\n",
      "Data columns (total 8 columns):\n",
      " #   Column                           Non-Null Count  Dtype  \n",
      "---  ------                           --------------  -----  \n",
      " 0   year                             8 non-null      int64  \n",
      " 1   emigrants_15_29                  8 non-null      int64  \n",
      " 2   neet_rate_15_29                  8 non-null      float64\n",
      " 3   tertiary_enrollment_total_18_24  8 non-null      int64  \n",
      " 4   pop_20_24                        8 non-null      int64  \n",
      " 5   tertiary_enrollment_rate_18_24   8 non-null      float64\n",
      " 6   avg_gross_monthly_wage_all       8 non-null      int64  \n",
      " 7   pct_asylum_15_29                 8 non-null      float64\n",
      "dtypes: float64(3), int64(5)\n",
      "memory usage: 644.0 bytes\n",
      "None\n"
     ]
    }
   ],
   "source": [
    "print(df.shape)\n",
    "print(df.head())\n",
    "print(df.info())\n"
   ]
  },
  {
   "cell_type": "code",
   "execution_count": 10,
   "id": "17aaed7b",
   "metadata": {},
   "outputs": [],
   "source": [
    "df.columns = [\n",
    "    'year',\n",
    "    'youth_emigration',            \n",
    "    'neet_rate',                   \n",
    "    'tertiary_enrollment_total',   \n",
    "    'youth_population',            \n",
    "    'tertiary_enrollment_rate',    \n",
    "    'avg_gross_wage',             \n",
    "    'asylum_pct'   \n",
    "]"
   ]
  },
  {
   "cell_type": "code",
   "execution_count": 11,
   "id": "fd1e2cf9",
   "metadata": {},
   "outputs": [],
   "source": [
    "df['year'] = df['year'].astype(int)\n",
    "df['neet_rate'] = df['neet_rate'].astype(float)\n",
    "df['avg_gross_wage'] = df['avg_gross_wage'].astype(float)"
   ]
  },
  {
   "cell_type": "code",
   "execution_count": 12,
   "id": "6f4b2755",
   "metadata": {},
   "outputs": [
    {
     "name": "stdout",
     "output_type": "stream",
     "text": [
      "year                         0\n",
      "youth_emigration             0\n",
      "neet_rate                    0\n",
      "tertiary_enrollment_total    0\n",
      "youth_population             0\n",
      "tertiary_enrollment_rate     0\n",
      "avg_gross_wage               0\n",
      "asylum_pct                   0\n",
      "dtype: int64\n"
     ]
    }
   ],
   "source": [
    "# missing values\n",
    "print(df.isnull().sum())\n",
    "df = df.dropna()"
   ]
  },
  {
   "cell_type": "code",
   "execution_count": 13,
   "id": "13f5751e",
   "metadata": {},
   "outputs": [],
   "source": [
    "df['emigration_rate_per_1000'] = (\n",
    "    df['youth_emigration'] / df['youth_population'] * 1000\n",
    ")\n"
   ]
  },
  {
   "cell_type": "code",
   "execution_count": 14,
   "id": "a4edb30a",
   "metadata": {},
   "outputs": [
    {
     "name": "stdout",
     "output_type": "stream",
     "text": [
      "✅ Cleaned data saved.\n"
     ]
    }
   ],
   "source": [
    "\n",
    "# Save cleaned dataset\n",
    "df.to_csv('../data/cleaned_albania_youth_data.csv', index=False)\n",
    "print(\"✅ Cleaned data saved.\")"
   ]
  }
 ],
 "metadata": {
  "kernelspec": {
   "display_name": "Python 3",
   "language": "python",
   "name": "python3"
  },
  "language_info": {
   "codemirror_mode": {
    "name": "ipython",
    "version": 3
   },
   "file_extension": ".py",
   "mimetype": "text/x-python",
   "name": "python",
   "nbconvert_exporter": "python",
   "pygments_lexer": "ipython3",
   "version": "3.13.5"
  }
 },
 "nbformat": 4,
 "nbformat_minor": 5
}
