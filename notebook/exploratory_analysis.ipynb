{
 "cells": [
  {
   "cell_type": "code",
   "execution_count": 1,
   "id": "2058521e",
   "metadata": {},
   "outputs": [],
   "source": [
    "import pandas as pd\n",
    "import numpy as np"
   ]
  },
  {
   "cell_type": "code",
   "execution_count": 2,
   "id": "66e2d8c4",
   "metadata": {},
   "outputs": [],
   "source": [
    "# Load clean dataset\n",
    "df = pd.read_csv('../data/cleaned_albania_youth_data.csv')"
   ]
  },
  {
   "cell_type": "code",
   "execution_count": 3,
   "id": "8ca9b839",
   "metadata": {},
   "outputs": [
    {
     "name": "stdout",
     "output_type": "stream",
     "text": [
      "             year  youth_emigration  neet_rate  tertiary_enrollment_total  \\\n",
      "count     8.00000          8.000000   8.000000                   8.000000   \n",
      "mean   2019.50000      16173.750000  27.387500              128928.375000   \n",
      "std       2.44949       5449.100575   1.951876                8061.619918   \n",
      "min    2016.00000      11765.000000  25.000000              120063.000000   \n",
      "25%    2017.75000      13277.750000  25.875000              123185.750000   \n",
      "50%    2019.50000      14012.500000  27.250000              127072.000000   \n",
      "75%    2021.25000      16793.750000  28.875000              133474.250000   \n",
      "max    2023.00000      27790.000000  30.000000              141410.000000   \n",
      "\n",
      "       youth_population  tertiary_enrollment_rate  avg_gross_wage  asylum_pct  \\\n",
      "count          8.000000                  8.000000        8.000000    8.000000   \n",
      "mean      229988.000000                 56.287500    55343.375000   30.397500   \n",
      "std        22814.057465                  2.965091     7684.166577    3.267208   \n",
      "min       196240.000000                 51.810000    47522.000000   25.480000   \n",
      "25%       214906.000000                 54.900000    50183.500000   28.612500   \n",
      "50%       231703.000000                 55.660000    53021.000000   31.430000   \n",
      "75%       248895.750000                 57.397500    58367.000000   32.672500   \n",
      "max       256899.000000                 61.180000    70539.000000   34.020000   \n",
      "\n",
      "       emigration_rate_per_1000  \n",
      "count                  8.000000  \n",
      "mean                  69.658681  \n",
      "std                   18.357008  \n",
      "min                   47.605174  \n",
      "25%                   60.331316  \n",
      "50%                   64.934350  \n",
      "75%                   73.477622  \n",
      "max                  108.174808  \n",
      "<class 'pandas.core.frame.DataFrame'>\n",
      "RangeIndex: 8 entries, 0 to 7\n",
      "Data columns (total 9 columns):\n",
      " #   Column                     Non-Null Count  Dtype  \n",
      "---  ------                     --------------  -----  \n",
      " 0   year                       8 non-null      int64  \n",
      " 1   youth_emigration           8 non-null      int64  \n",
      " 2   neet_rate                  8 non-null      float64\n",
      " 3   tertiary_enrollment_total  8 non-null      int64  \n",
      " 4   youth_population           8 non-null      int64  \n",
      " 5   tertiary_enrollment_rate   8 non-null      float64\n",
      " 6   avg_gross_wage             8 non-null      float64\n",
      " 7   asylum_pct                 8 non-null      float64\n",
      " 8   emigration_rate_per_1000   8 non-null      float64\n",
      "dtypes: float64(5), int64(4)\n",
      "memory usage: 708.0 bytes\n",
      "None\n"
     ]
    }
   ],
   "source": [
    "# Summary statistics\n",
    "print(df.describe())\n",
    "print(df.info())"
   ]
  },
  {
   "cell_type": "code",
   "execution_count": 4,
   "id": "2862a7c4",
   "metadata": {},
   "outputs": [
    {
     "name": "stdout",
     "output_type": "stream",
     "text": [
      "year\n",
      "2016    30.0\n",
      "2017    29.7\n",
      "2018    28.6\n",
      "2019    26.6\n",
      "2020    27.9\n",
      "2021    26.1\n",
      "2022    25.2\n",
      "2023    25.0\n",
      "Name: neet_rate, dtype: float64\n",
      "year\n",
      "2016    27790\n",
      "2017    20624\n",
      "2018    11765\n",
      "2019    13904\n",
      "2020    14121\n",
      "2021    15517\n",
      "2022    13721\n",
      "2023    11948\n",
      "Name: youth_emigration, dtype: int64\n"
     ]
    }
   ],
   "source": [
    "# Yearly averages and totals\n",
    "print(df.groupby('year')['neet_rate'].mean())\n",
    "print(df.groupby('year')['youth_emigration'].sum())"
   ]
  },
  {
   "cell_type": "code",
   "execution_count": 5,
   "id": "f79e19dc",
   "metadata": {},
   "outputs": [],
   "source": [
    "# Percentage changes\n",
    "df['neet_rate_change'] = df['neet_rate'].pct_change()\n",
    "df['wage_change'] = df['avg_gross_wage'].pct_change()"
   ]
  },
  {
   "cell_type": "code",
   "execution_count": 6,
   "id": "f69403ce",
   "metadata": {},
   "outputs": [
    {
     "name": "stdout",
     "output_type": "stream",
     "text": [
      "                               year  youth_emigration  neet_rate  \\\n",
      "year                       1.000000         -0.716752  -0.951664   \n",
      "youth_emigration          -0.716752          1.000000   0.702849   \n",
      "neet_rate                 -0.951664          0.702849   1.000000   \n",
      "tertiary_enrollment_total -0.914124          0.582860   0.832066   \n",
      "youth_population          -0.990292          0.633848   0.940441   \n",
      "tertiary_enrollment_rate   0.817455         -0.504542  -0.813633   \n",
      "avg_gross_wage             0.936804         -0.578622  -0.880721   \n",
      "asylum_pct                -0.718481          0.117143   0.704582   \n",
      "emigration_rate_per_1000  -0.517186          0.967128   0.515870   \n",
      "neet_rate_change           0.031924          0.065164   0.289011   \n",
      "wage_change                0.848834         -0.395359  -0.791884   \n",
      "\n",
      "                           tertiary_enrollment_total  youth_population  \\\n",
      "year                                       -0.914124         -0.990292   \n",
      "youth_emigration                            0.582860          0.633848   \n",
      "neet_rate                                   0.832066          0.940441   \n",
      "tertiary_enrollment_total                   1.000000          0.901201   \n",
      "youth_population                            0.901201          1.000000   \n",
      "tertiary_enrollment_rate                   -0.550798         -0.856262   \n",
      "avg_gross_wage                             -0.811503         -0.953128   \n",
      "asylum_pct                                  0.616511          0.797548   \n",
      "emigration_rate_per_1000                    0.385215          0.417765   \n",
      "neet_rate_change                           -0.243261         -0.057334   \n",
      "wage_change                                -0.663543         -0.853955   \n",
      "\n",
      "                           tertiary_enrollment_rate  avg_gross_wage  \\\n",
      "year                                       0.817455        0.936804   \n",
      "youth_emigration                          -0.504542       -0.578622   \n",
      "neet_rate                                 -0.813633       -0.880721   \n",
      "tertiary_enrollment_total                 -0.550798       -0.811503   \n",
      "youth_population                          -0.856262       -0.953128   \n",
      "tertiary_enrollment_rate                   1.000000        0.891698   \n",
      "avg_gross_wage                             0.891698        1.000000   \n",
      "asylum_pct                                -0.834807       -0.836942   \n",
      "emigration_rate_per_1000                  -0.319699       -0.374632   \n",
      "neet_rate_change                          -0.115071        0.051662   \n",
      "wage_change                                0.880105        0.969670   \n",
      "\n",
      "                           asylum_pct  emigration_rate_per_1000  \\\n",
      "year                        -0.718481                 -0.517186   \n",
      "youth_emigration             0.117143                  0.967128   \n",
      "neet_rate                    0.704582                  0.515870   \n",
      "tertiary_enrollment_total    0.616511                  0.385215   \n",
      "youth_population             0.797548                  0.417765   \n",
      "tertiary_enrollment_rate    -0.834807                 -0.319699   \n",
      "avg_gross_wage              -0.836942                 -0.374632   \n",
      "asylum_pct                   1.000000                 -0.120737   \n",
      "emigration_rate_per_1000    -0.120737                  1.000000   \n",
      "neet_rate_change             0.073514                  0.083650   \n",
      "wage_change                 -0.913780                 -0.002338   \n",
      "\n",
      "                           neet_rate_change  wage_change  \n",
      "year                               0.031924     0.848834  \n",
      "youth_emigration                   0.065164    -0.395359  \n",
      "neet_rate                          0.289011    -0.791884  \n",
      "tertiary_enrollment_total         -0.243261    -0.663543  \n",
      "youth_population                  -0.057334    -0.853955  \n",
      "tertiary_enrollment_rate          -0.115071     0.880105  \n",
      "avg_gross_wage                     0.051662     0.969670  \n",
      "asylum_pct                         0.073514    -0.913780  \n",
      "emigration_rate_per_1000           0.083650    -0.002338  \n",
      "neet_rate_change                   1.000000    -0.071635  \n",
      "wage_change                       -0.071635     1.000000  \n"
     ]
    }
   ],
   "source": [
    "# Correlations\n",
    "corr = df.corr(numeric_only=True)\n",
    "print(corr)"
   ]
  },
  {
   "cell_type": "code",
   "execution_count": 8,
   "id": "f4f7a4ef",
   "metadata": {},
   "outputs": [
    {
     "name": "stdout",
     "output_type": "stream",
     "text": [
      "Years with high NEET:    year  youth_emigration  neet_rate  tertiary_enrollment_total  \\\n",
      "0  2016             27790       30.0                     141410   \n",
      "\n",
      "   youth_population  tertiary_enrollment_rate  avg_gross_wage  asylum_pct  \\\n",
      "0            256899                     55.06         47522.0       30.24   \n",
      "\n",
      "   emigration_rate_per_1000  neet_rate_change  wage_change  \n",
      "0                108.174808               NaN          NaN  \n"
     ]
    }
   ],
   "source": [
    "# Interesting queries\n",
    "high_neet = df[df['neet_rate'] >= 30]\n",
    "print(\"Years with high NEET:\", high_neet)\n"
   ]
  },
  {
   "cell_type": "code",
   "execution_count": 9,
   "id": "70897a19",
   "metadata": {},
   "outputs": [
    {
     "name": "stdout",
     "output_type": "stream",
     "text": [
      "Top emigration years:    year  youth_emigration  neet_rate  tertiary_enrollment_total  \\\n",
      "0  2016             27790       30.0                     141410   \n",
      "1  2017             20624       29.7                     131618   \n",
      "5  2021             15517       26.1                     123880   \n",
      "4  2020             14121       27.9                     123797   \n",
      "3  2019             13904       26.6                     130264   \n",
      "\n",
      "   youth_population  tertiary_enrollment_rate  avg_gross_wage  asylum_pct  \\\n",
      "0            256899                     55.06         47522.0       30.24   \n",
      "1            254172                     51.81         48967.0       32.62   \n",
      "5            218787                     56.63         57190.0       29.54   \n",
      "4            226425                     54.69         53662.0       32.83   \n",
      "3            236981                     54.97         52380.0       32.62   \n",
      "\n",
      "   emigration_rate_per_1000  neet_rate_change  wage_change  \n",
      "0                108.174808               NaN          NaN  \n",
      "1                 81.141904         -0.010000     0.030407  \n",
      "5                 70.922861         -0.064516     0.065745  \n",
      "4                 62.365022          0.048872     0.024475  \n",
      "3                 58.671370         -0.069930     0.035403  \n"
     ]
    }
   ],
   "source": [
    "top_emigration = df.sort_values('youth_emigration', ascending=False).head()\n",
    "print(\"Top emigration years:\", top_emigration)"
   ]
  }
 ],
 "metadata": {
  "kernelspec": {
   "display_name": "Python 3",
   "language": "python",
   "name": "python3"
  },
  "language_info": {
   "codemirror_mode": {
    "name": "ipython",
    "version": 3
   },
   "file_extension": ".py",
   "mimetype": "text/x-python",
   "name": "python",
   "nbconvert_exporter": "python",
   "pygments_lexer": "ipython3",
   "version": "3.13.5"
  }
 },
 "nbformat": 4,
 "nbformat_minor": 5
}
